{
  "nbformat": 4,
  "nbformat_minor": 0,
  "metadata": {
    "colab": {
      "name": "MNIST_TWOHIDDENLAYERS_2",
      "version": "0.3.2",
      "provenance": []
    },
    "kernelspec": {
      "name": "python3",
      "display_name": "Python 3"
    },
    "accelerator": "GPU"
  },
  "cells": [
    {
      "metadata": {
        "id": "Rxpoah5GxgLT",
        "colab_type": "code",
        "colab": {}
      },
      "cell_type": "code",
      "source": [
        "# http://pytorch.org/\n",
        "from os.path import exists\n",
        "from wheel.pep425tags import get_abbr_impl, get_impl_ver, get_abi_tag\n",
        "platform = '{}{}-{}'.format(get_abbr_impl(), get_impl_ver(), get_abi_tag())\n",
        "cuda_output = !ldconfig -p|grep cudart.so|sed -e 's/.*\\.\\([0-9]*\\)\\.\\([0-9]*\\)$/cu\\1\\2/'\n",
        "accelerator = cuda_output[0] if exists('/dev/nvidia0') else 'cpu'\n",
        "\n",
        "!pip install -q http://download.pytorch.org/whl/{accelerator}/torch-0.4.1-{platform}-linux_x86_64.whl torchvision\n",
        "import torch"
      ],
      "execution_count": 0,
      "outputs": []
    },
    {
      "metadata": {
        "id": "hxJ0mEDbxqPE",
        "colab_type": "code",
        "colab": {}
      },
      "cell_type": "code",
      "source": [
        "# Import necessary packages\n",
        "\n",
        "%matplotlib inline\n",
        "%config InlineBackend.figure_format = 'retina'\n",
        "\n",
        "import numpy as np\n",
        "import torch\n",
        "\n",
        "import helper\n",
        "\n",
        "import matplotlib.pyplot as plt"
      ],
      "execution_count": 0,
      "outputs": []
    },
    {
      "metadata": {
        "id": "NYHU_VtOxty6",
        "colab_type": "code",
        "colab": {}
      },
      "cell_type": "code",
      "source": [
        "### Run this cell\n",
        "\n",
        "from torchvision import datasets, transforms\n",
        "\n",
        "# Define a transform to normalize the data\n",
        "transform = transforms.Compose([transforms.ToTensor(),\n",
        "                              transforms.Normalize((0.5,), (0.5,)),\n",
        "                              ])\n",
        "# Download and load the training data\n",
        "trainset = datasets.MNIST('~/.pytorch/MNIST_data/', download=True, train=True, transform=transform)\n",
        "trainloader = torch.utils.data.DataLoader(trainset, batch_size=64, shuffle=True)"
      ],
      "execution_count": 0,
      "outputs": []
    },
    {
      "metadata": {
        "id": "zf3sLIv7xzi1",
        "colab_type": "code",
        "colab": {
          "base_uri": "https://localhost:8080/",
          "height": 70
        },
        "outputId": "d13037fd-baf3-4e1e-c8a9-f6daf22cb2c6"
      },
      "cell_type": "code",
      "source": [
        "dataiter = iter(trainloader)\n",
        "images, labels = dataiter.next()\n",
        "print(type(images))\n",
        "print(images.shape)\n",
        "print(labels.shape)"
      ],
      "execution_count": 4,
      "outputs": [
        {
          "output_type": "stream",
          "text": [
            "<class 'torch.Tensor'>\n",
            "torch.Size([64, 1, 28, 28])\n",
            "torch.Size([64])\n"
          ],
          "name": "stdout"
        }
      ]
    },
    {
      "metadata": {
        "id": "tF0eDJogx3wI",
        "colab_type": "code",
        "colab": {
          "base_uri": "https://localhost:8080/",
          "height": 265
        },
        "outputId": "a7af4d3d-d42f-41b8-c6bf-d5886dce1817"
      },
      "cell_type": "code",
      "source": [
        "plt.imshow(images[1].numpy().squeeze(), cmap='Greys_r');\n"
      ],
      "execution_count": 5,
      "outputs": [
        {
          "output_type": "display_data",
          "data": {
            "image/png": "[encoded data removed]",
            "text/plain": [
              "<matplotlib.figure.Figure at 0x7fce5a300be0>"
            ]
          },
          "metadata": {
            "tags": [],
            "image/png": {
              "width": 249,
              "height": 248
            }
          }
        }
      ]
    },
    {
      "metadata": {
        "id": "t03W-md0x7uB",
        "colab_type": "code",
        "colab": {}
      },
      "cell_type": "code",
      "source": [
        "from torch import nn"
      ],
      "execution_count": 0,
      "outputs": []
    },
    {
      "metadata": {
        "id": "k0I11x_5yD52",
        "colab_type": "code",
        "colab": {}
      },
      "cell_type": "code",
      "source": [
        "class network(nn.Module):\n",
        "  \n",
        "  def __init__(self):\n",
        "    super().__init__()\n",
        "    \n",
        "    self.hidden1=nn.Linear(784,128)\n",
        "    self.hidden2=nn.Linear(128,64)\n",
        "    self.output=nn.Linear(64,10)\n",
        "    self.relu=nn.ReLU()\n",
        "    self.somx=nn.Softmax(dim=1)\n",
        "  \n",
        "  def forward(self,x):\n",
        "    \n",
        "    x=self.hidden1(x)\n",
        "    x=self.relu(x)\n",
        "    x=self.hidden2(x)\n",
        "    x=self.relu(x)\n",
        "    x=self.output(x)\n",
        "    x=self.somx(x)\n",
        "    \n",
        "    return x  "
      ],
      "execution_count": 0,
      "outputs": []
    },
    {
      "metadata": {
        "id": "yTJ0IT_iyGQ2",
        "colab_type": "code",
        "colab": {
          "base_uri": "https://localhost:8080/",
          "height": 140
        },
        "outputId": "2144a3c1-376a-4b7a-f08a-c7f686cac423"
      },
      "cell_type": "code",
      "source": [
        "model=network()\n",
        "model"
      ],
      "execution_count": 8,
      "outputs": [
        {
          "output_type": "execute_result",
          "data": {
            "text/plain": [
              "network(\n",
              "  (hidden1): Linear(in_features=784, out_features=128, bias=True)\n",
              "  (hidden2): Linear(in_features=128, out_features=64, bias=True)\n",
              "  (output): Linear(in_features=64, out_features=10, bias=True)\n",
              "  (relu): ReLU()\n",
              "  (somx): Softmax()\n",
              ")"
            ]
          },
          "metadata": {
            "tags": []
          },
          "execution_count": 8
        }
      ]
    },
    {
      "metadata": {
        "id": "v323Uk-XyJ40",
        "colab_type": "code",
        "colab": {
          "base_uri": "https://localhost:8080/",
          "height": 175
        },
        "outputId": "3b002212-7493-4032-c3c1-595b594ffda1"
      },
      "cell_type": "code",
      "source": [
        "print(model.hidden1.weight)"
      ],
      "execution_count": 9,
      "outputs": [
        {
          "output_type": "stream",
          "text": [
            "Parameter containing:\n",
            "tensor([[-0.0205, -0.0047,  0.0057,  ...,  0.0315, -0.0120,  0.0063],\n",
            "        [-0.0133, -0.0001, -0.0077,  ...,  0.0081, -0.0243,  0.0317],\n",
            "        [ 0.0248, -0.0312,  0.0088,  ...,  0.0102, -0.0356,  0.0010],\n",
            "        ...,\n",
            "        [-0.0040,  0.0031,  0.0317,  ...,  0.0227, -0.0116,  0.0089],\n",
            "        [ 0.0172,  0.0264,  0.0024,  ..., -0.0121, -0.0286,  0.0133],\n",
            "        [ 0.0053,  0.0035, -0.0257,  ..., -0.0211,  0.0217,  0.0027]],\n",
            "       requires_grad=True)\n"
          ],
          "name": "stdout"
        }
      ]
    },
    {
      "metadata": {
        "id": "Td6GDe_TyMhW",
        "colab_type": "code",
        "colab": {
          "base_uri": "https://localhost:8080/",
          "height": 334
        },
        "outputId": "118c6bf6-1d7b-4af4-8577-fdbd254e518f"
      },
      "cell_type": "code",
      "source": [
        "print(model.hidden1.bias)\n"
      ],
      "execution_count": 10,
      "outputs": [
        {
          "output_type": "stream",
          "text": [
            "Parameter containing:\n",
            "tensor([ 0.0048, -0.0259,  0.0223,  0.0116,  0.0281, -0.0073, -0.0263, -0.0035,\n",
            "         0.0172,  0.0237, -0.0036, -0.0028, -0.0215,  0.0104,  0.0061,  0.0078,\n",
            "         0.0113, -0.0130, -0.0018,  0.0040,  0.0111,  0.0093, -0.0138,  0.0218,\n",
            "         0.0230, -0.0241, -0.0019, -0.0141, -0.0178,  0.0248, -0.0214, -0.0236,\n",
            "         0.0090,  0.0030,  0.0028, -0.0220,  0.0355,  0.0186,  0.0293, -0.0032,\n",
            "        -0.0087,  0.0232, -0.0083,  0.0050,  0.0237, -0.0143, -0.0330, -0.0334,\n",
            "        -0.0335, -0.0162, -0.0212, -0.0323, -0.0086, -0.0102, -0.0249,  0.0310,\n",
            "        -0.0236, -0.0020, -0.0222,  0.0046, -0.0103, -0.0254,  0.0266,  0.0203,\n",
            "         0.0165, -0.0337,  0.0038,  0.0049,  0.0195, -0.0215, -0.0261, -0.0243,\n",
            "         0.0244,  0.0038, -0.0044,  0.0031,  0.0348, -0.0311, -0.0172,  0.0068,\n",
            "        -0.0254, -0.0291, -0.0036, -0.0006, -0.0000,  0.0267,  0.0192, -0.0272,\n",
            "        -0.0164,  0.0293,  0.0300, -0.0108, -0.0136, -0.0253, -0.0188, -0.0146,\n",
            "         0.0191, -0.0351,  0.0175, -0.0350, -0.0253,  0.0261, -0.0218, -0.0051,\n",
            "        -0.0129,  0.0082,  0.0330, -0.0082,  0.0323, -0.0240, -0.0172,  0.0337,\n",
            "        -0.0104,  0.0150, -0.0210, -0.0013, -0.0172,  0.0057,  0.0229,  0.0073,\n",
            "        -0.0096, -0.0073,  0.0258, -0.0141,  0.0254,  0.0356,  0.0069,  0.0304],\n",
            "       requires_grad=True)\n"
          ],
          "name": "stdout"
        }
      ]
    },
    {
      "metadata": {
        "id": "ZC98bxxOyOTG",
        "colab_type": "code",
        "colab": {
          "base_uri": "https://localhost:8080/",
          "height": 158
        },
        "outputId": "c714603b-167b-4380-f2b2-0daa34174b15"
      },
      "cell_type": "code",
      "source": [
        "model.hidden1.bias.data.fill_(0)"
      ],
      "execution_count": 11,
      "outputs": [
        {
          "output_type": "execute_result",
          "data": {
            "text/plain": [
              "tensor([0., 0., 0., 0., 0., 0., 0., 0., 0., 0., 0., 0., 0., 0., 0., 0., 0., 0.,\n",
              "        0., 0., 0., 0., 0., 0., 0., 0., 0., 0., 0., 0., 0., 0., 0., 0., 0., 0.,\n",
              "        0., 0., 0., 0., 0., 0., 0., 0., 0., 0., 0., 0., 0., 0., 0., 0., 0., 0.,\n",
              "        0., 0., 0., 0., 0., 0., 0., 0., 0., 0., 0., 0., 0., 0., 0., 0., 0., 0.,\n",
              "        0., 0., 0., 0., 0., 0., 0., 0., 0., 0., 0., 0., 0., 0., 0., 0., 0., 0.,\n",
              "        0., 0., 0., 0., 0., 0., 0., 0., 0., 0., 0., 0., 0., 0., 0., 0., 0., 0.,\n",
              "        0., 0., 0., 0., 0., 0., 0., 0., 0., 0., 0., 0., 0., 0., 0., 0., 0., 0.,\n",
              "        0., 0.])"
            ]
          },
          "metadata": {
            "tags": []
          },
          "execution_count": 11
        }
      ]
    },
    {
      "metadata": {
        "id": "Kq2WOhPByQ4N",
        "colab_type": "code",
        "colab": {
          "base_uri": "https://localhost:8080/",
          "height": 140
        },
        "outputId": "de519f3e-c71f-47ee-f120-4d525344c090"
      },
      "cell_type": "code",
      "source": [
        "model.hidden1.weight.data.normal_(std=0.01)\n"
      ],
      "execution_count": 12,
      "outputs": [
        {
          "output_type": "execute_result",
          "data": {
            "text/plain": [
              "tensor([[ 0.0012, -0.0078, -0.0041,  ...,  0.0171,  0.0009, -0.0065],\n",
              "        [ 0.0017,  0.0064, -0.0115,  ...,  0.0081,  0.0020,  0.0065],\n",
              "        [ 0.0174,  0.0119, -0.0027,  ..., -0.0020, -0.0131, -0.0056],\n",
              "        ...,\n",
              "        [ 0.0026, -0.0018, -0.0038,  ...,  0.0035, -0.0031, -0.0078],\n",
              "        [ 0.0140, -0.0015,  0.0147,  ...,  0.0058, -0.0094,  0.0038],\n",
              "        [-0.0119, -0.0053,  0.0148,  ...,  0.0019, -0.0078, -0.0059]])"
            ]
          },
          "metadata": {
            "tags": []
          },
          "execution_count": 12
        }
      ]
    },
    {
      "metadata": {
        "id": "PzQzNHmAyUHQ",
        "colab_type": "code",
        "colab": {}
      },
      "cell_type": "code",
      "source": [
        "dataiter = iter(trainloader)\n",
        "images, labels = dataiter.next()"
      ],
      "execution_count": 0,
      "outputs": []
    },
    {
      "metadata": {
        "id": "cjgCsaCNyaDa",
        "colab_type": "code",
        "colab": {}
      },
      "cell_type": "code",
      "source": [
        "images.resize_(64, 1, 784)\n",
        "img_idx = 0\n",
        "ps = model.forward(images[img_idx,:])"
      ],
      "execution_count": 0,
      "outputs": []
    },
    {
      "metadata": {
        "id": "jriRMbcBzWkP",
        "colab_type": "code",
        "colab": {
          "base_uri": "https://localhost:8080/",
          "height": 244
        },
        "outputId": "09b7c521-599d-4f90-d57d-92f2c3224f99"
      },
      "cell_type": "code",
      "source": [
        "img = images[img_idx]\n",
        "helper.view_classify(img.view(1, 28, 28), ps)"
      ],
      "execution_count": 16,
      "outputs": [
        {
          "output_type": "display_data",
          "data": {
            "image/png": "[encoded data removed]",
            "text/plain": [
              "<matplotlib.figure.Figure at 0x7fce25fe6b38>"
            ]
          },
          "metadata": {
            "tags": [],
            "image/png": {
              "width": 424,
              "height": 227
            }
          }
        }
      ]
    },
    {
      "metadata": {
        "id": "XGh498J8z2lq",
        "colab_type": "code",
        "colab": {}
      },
      "cell_type": "code",
      "source": [
        ""
      ],
      "execution_count": 0,
      "outputs": []
    },
    {
      "metadata": {
        "id": "xdwqt1c4zZsR",
        "colab_type": "code",
        "colab": {}
      },
      "cell_type": "code",
      "source": [
        ""
      ],
      "execution_count": 0,
      "outputs": []
    }
  ]
}