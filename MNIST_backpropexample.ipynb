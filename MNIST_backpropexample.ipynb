{
  "nbformat": 4,
  "nbformat_minor": 0,
  "metadata": {
    "colab": {
      "name": "MNIST_backpropexample",
      "version": "0.3.2",
      "provenance": [],
      "collapsed_sections": []
    },
    "kernelspec": {
      "name": "python3",
      "display_name": "Python 3"
    },
    "accelerator": "GPU"
  },
  "cells": [
    {
      "metadata": {
        "id": "3NqPS-PvHylm",
        "colab_type": "code",
        "colab": {
          "base_uri": "https://localhost:8080/",
          "height": 54
        },
        "outputId": "457d4092-537c-4c70-ba26-81341b0b3686"
      },
      "cell_type": "code",
      "source": [
        "# http://pytorch.org/\n",
        "from os.path import exists\n",
        "from wheel.pep425tags import get_abbr_impl, get_impl_ver, get_abi_tag\n",
        "platform = '{}{}-{}'.format(get_abbr_impl(), get_impl_ver(), get_abi_tag())\n",
        "cuda_output = !ldconfig -p|grep cudart.so|sed -e 's/.*\\.\\([0-9]*\\)\\.\\([0-9]*\\)$/cu\\1\\2/'\n",
        "accelerator = cuda_output[0] if exists('/dev/nvidia0') else 'cpu'\n",
        "\n",
        "!pip install -q http://download.pytorch.org/whl/{accelerator}/torch-0.4.1-{platform}-linux_x86_64.whl torchvision\n",
        "import torch"
      ],
      "execution_count": 1,
      "outputs": [
        {
          "output_type": "stream",
          "text": [
            "tcmalloc: large alloc 1073750016 bytes == 0x5761e000 @  0x7f995a3982a4 0x591a07 0x5b5d56 0x502e9a 0x506859 0x502209 0x502f3d 0x506859 0x504c28 0x502540 0x502f3d 0x506859 0x504c28 0x502540 0x502f3d 0x506859 0x504c28 0x502540 0x502f3d 0x507641 0x502209 0x502f3d 0x506859 0x504c28 0x502540 0x502f3d 0x507641 0x504c28 0x502540 0x502f3d 0x507641\n"
          ],
          "name": "stdout"
        }
      ]
    },
    {
      "metadata": {
        "id": "x8b58mP1H7nt",
        "colab_type": "code",
        "colab": {
          "base_uri": "https://localhost:8080/",
          "height": 122
        },
        "outputId": "6b833748-387f-4506-e225-f8f94aa5e72d"
      },
      "cell_type": "code",
      "source": [
        "import torch\n",
        "from torch import nn\n",
        "import torch.nn.functional as F\n",
        "from torchvision import datasets, transforms\n",
        "\n",
        "# Define a transform to normalize the data\n",
        "transform = transforms.Compose([transforms.ToTensor(),\n",
        "                                transforms.Normalize((0.5, 0.5, 0.5), (0.5, 0.5, 0.5)),\n",
        "                              ])\n",
        "# Download and load the training data\n",
        "trainset = datasets.MNIST('~/.pytorch/MNIST_data/', download=True, train=True, transform=transform)\n",
        "trainloader = torch.utils.data.DataLoader(trainset, batch_size=64, shuffle=True)"
      ],
      "execution_count": 2,
      "outputs": [
        {
          "output_type": "stream",
          "text": [
            "Downloading http://yann.lecun.com/exdb/mnist/train-images-idx3-ubyte.gz\n",
            "Downloading http://yann.lecun.com/exdb/mnist/train-labels-idx1-ubyte.gz\n",
            "Downloading http://yann.lecun.com/exdb/mnist/t10k-images-idx3-ubyte.gz\n",
            "Downloading http://yann.lecun.com/exdb/mnist/t10k-labels-idx1-ubyte.gz\n",
            "Processing...\n",
            "Done!\n"
          ],
          "name": "stdout"
        }
      ]
    },
    {
      "metadata": {
        "id": "1_01yGgzH_GU",
        "colab_type": "code",
        "outputId": "c9c354b0-8f94-4593-af85-97fe06b21a73",
        "colab": {
          "base_uri": "https://localhost:8080/",
          "height": 34
        }
      },
      "cell_type": "code",
      "source": [
        "model = nn.Sequential(nn.Linear(784,128),nn.ReLU(),nn.Linear(128,64),nn.ReLU(),nn.Linear(64,10),nn.LogSoftmax(dim=1))\n",
        "\n",
        "criterion = nn.NLLLoss()\n",
        "\n",
        "images , labels = next(iter(trainloader))\n",
        "\n",
        "images = images.flatten(start_dim=1)\n",
        "\n",
        "logits = model(images)\n",
        "\n",
        "loss = criterion(logits,labels)\n",
        "\n",
        "print(loss)\n"
      ],
      "execution_count": 23,
      "outputs": [
        {
          "output_type": "stream",
          "text": [
            "tensor(2.3070, grad_fn=<NllLossBackward>)\n"
          ],
          "name": "stdout"
        }
      ]
    },
    {
      "metadata": {
        "id": "QOVW7et7I-o1",
        "colab_type": "code",
        "outputId": "fd11dc67-8622-46ca-ddcd-59f4d49f6c4f",
        "colab": {
          "base_uri": "https://localhost:8080/",
          "height": 158
        }
      },
      "cell_type": "code",
      "source": [
        "print(model)"
      ],
      "execution_count": 4,
      "outputs": [
        {
          "output_type": "stream",
          "text": [
            "Sequential(\n",
            "  (0): Linear(in_features=784, out_features=128, bias=True)\n",
            "  (1): ReLU()\n",
            "  (2): Linear(in_features=128, out_features=64, bias=True)\n",
            "  (3): ReLU()\n",
            "  (4): Linear(in_features=64, out_features=10, bias=True)\n",
            "  (5): LogSoftmax()\n",
            ")\n"
          ],
          "name": "stdout"
        }
      ]
    },
    {
      "metadata": {
        "id": "aPTkRTb7XE2a",
        "colab_type": "code",
        "outputId": "50fd14d9-92c8-4ffd-99b8-4c0020352921",
        "colab": {
          "base_uri": "https://localhost:8080/",
          "height": 34
        }
      },
      "cell_type": "code",
      "source": [
        "print(criterion)"
      ],
      "execution_count": 5,
      "outputs": [
        {
          "output_type": "stream",
          "text": [
            "NLLLoss()\n"
          ],
          "name": "stdout"
        }
      ]
    },
    {
      "metadata": {
        "id": "hbelp_nHXIBP",
        "colab_type": "code",
        "outputId": "e50cfd94-6d2d-4b9d-e6c9-68087eb3f776",
        "colab": {
          "base_uri": "https://localhost:8080/",
          "height": 34
        }
      },
      "cell_type": "code",
      "source": [
        "print(logits.shape)"
      ],
      "execution_count": 6,
      "outputs": [
        {
          "output_type": "stream",
          "text": [
            "torch.Size([64, 10])\n"
          ],
          "name": "stdout"
        }
      ]
    },
    {
      "metadata": {
        "id": "VxWKMUBiXlX9",
        "colab_type": "code",
        "outputId": "ddae4acf-087c-46ee-f021-190b19c289cc",
        "colab": {
          "base_uri": "https://localhost:8080/",
          "height": 193
        }
      },
      "cell_type": "code",
      "source": [
        "print(images)\n",
        "print(labels)"
      ],
      "execution_count": 7,
      "outputs": [
        {
          "output_type": "stream",
          "text": [
            "tensor([[-1., -1., -1.,  ..., -1., -1., -1.],\n",
            "        [-1., -1., -1.,  ..., -1., -1., -1.],\n",
            "        [-1., -1., -1.,  ..., -1., -1., -1.],\n",
            "        ...,\n",
            "        [-1., -1., -1.,  ..., -1., -1., -1.],\n",
            "        [-1., -1., -1.,  ..., -1., -1., -1.],\n",
            "        [-1., -1., -1.,  ..., -1., -1., -1.]])\n",
            "tensor([2, 3, 0, 3, 1, 4, 6, 2, 2, 4, 6, 9, 9, 7, 9, 6, 4, 2, 1, 8, 9, 5, 1, 0,\n",
            "        3, 9, 1, 9, 5, 1, 6, 8, 5, 7, 9, 4, 3, 2, 9, 3, 9, 6, 7, 5, 6, 9, 7, 5,\n",
            "        5, 3, 2, 6, 0, 2, 9, 8, 7, 4, 0, 4, 1, 7, 9, 4])\n"
          ],
          "name": "stdout"
        }
      ]
    },
    {
      "metadata": {
        "id": "uPEmuUiYC5Lr",
        "colab_type": "text"
      },
      "cell_type": "markdown",
      "source": [
        "*AUTOGRAD PYTORCH*"
      ]
    },
    {
      "metadata": {
        "id": "XVTgilGWCuhA",
        "colab_type": "code",
        "colab": {
          "base_uri": "https://localhost:8080/",
          "height": 158
        },
        "outputId": "30d9198e-233c-40cf-82f2-79cc8c0b789a"
      },
      "cell_type": "code",
      "source": [
        "x = torch.randn(2,2,requires_grad=True)\n",
        "y=x**2\n",
        "z=y.mean()\n",
        "print(x)\n",
        "print(y)\n",
        "print(z)\n",
        "print(x.grad)\n",
        "print(y.grad)\n",
        "print(z.grad)"
      ],
      "execution_count": 18,
      "outputs": [
        {
          "output_type": "stream",
          "text": [
            "tensor([[-0.2187,  0.4406],\n",
            "        [ 2.8242,  0.4601]], requires_grad=True)\n",
            "tensor([[0.0478, 0.1941],\n",
            "        [7.9759, 0.2117]], grad_fn=<PowBackward0>)\n",
            "tensor(2.1074, grad_fn=<MeanBackward1>)\n",
            "None\n",
            "None\n",
            "None\n"
          ],
          "name": "stdout"
        }
      ]
    },
    {
      "metadata": {
        "id": "Idklo4DeEzts",
        "colab_type": "code",
        "colab": {
          "base_uri": "https://localhost:8080/",
          "height": 87
        },
        "outputId": "92bc4a22-d2df-4b9e-e661-b734e90ed3ac"
      },
      "cell_type": "code",
      "source": [
        "z.backward()\n",
        "print(x.grad)\n",
        "print(x/2)"
      ],
      "execution_count": 19,
      "outputs": [
        {
          "output_type": "stream",
          "text": [
            "tensor([[-0.1093,  0.2203],\n",
            "        [ 1.4121,  0.2300]])\n",
            "tensor([[-0.1093,  0.2203],\n",
            "        [ 1.4121,  0.2300]], grad_fn=<DivBackward0>)\n"
          ],
          "name": "stdout"
        }
      ]
    },
    {
      "metadata": {
        "id": "a_OxDwqkFHtd",
        "colab_type": "text"
      },
      "cell_type": "markdown",
      "source": [
        "NOW USING AUTOGRAD FOR NEURAL NETWORKS"
      ]
    },
    {
      "metadata": {
        "id": "l6wHn-cME9Ye",
        "colab_type": "code",
        "colab": {
          "base_uri": "https://localhost:8080/",
          "height": 334
        },
        "outputId": "96c883fa-41bd-48e7-c77c-51eb74473f5d"
      },
      "cell_type": "code",
      "source": [
        "print(\"weights before backward pass :\\n\",model[0].weight)\n",
        "loss.backward()\n",
        "print(\"weights after backward pass  :\\n\",model[0].weight.grad)"
      ],
      "execution_count": 24,
      "outputs": [
        {
          "output_type": "stream",
          "text": [
            "weights before backward pass :\n",
            " Parameter containing:\n",
            "tensor([[-0.0051,  0.0137,  0.0291,  ..., -0.0220, -0.0119, -0.0147],\n",
            "        [-0.0130, -0.0193, -0.0049,  ..., -0.0307,  0.0180, -0.0147],\n",
            "        [-0.0154, -0.0270, -0.0231,  ...,  0.0320, -0.0047,  0.0043],\n",
            "        ...,\n",
            "        [ 0.0111, -0.0250,  0.0215,  ...,  0.0251, -0.0051,  0.0262],\n",
            "        [ 0.0235, -0.0178,  0.0252,  ..., -0.0130, -0.0222,  0.0325],\n",
            "        [ 0.0241, -0.0127, -0.0039,  ..., -0.0009,  0.0348,  0.0224]],\n",
            "       requires_grad=True)\n",
            "weights after backward pass  :\n",
            " tensor([[ 0.0017,  0.0017,  0.0017,  ...,  0.0017,  0.0017,  0.0017],\n",
            "        [-0.0015, -0.0015, -0.0015,  ..., -0.0015, -0.0015, -0.0015],\n",
            "        [ 0.0030,  0.0030,  0.0030,  ...,  0.0030,  0.0030,  0.0030],\n",
            "        ...,\n",
            "        [ 0.0002,  0.0002,  0.0002,  ...,  0.0002,  0.0002,  0.0002],\n",
            "        [ 0.0000,  0.0000,  0.0000,  ...,  0.0000,  0.0000,  0.0000],\n",
            "        [-0.0001, -0.0001, -0.0001,  ..., -0.0001, -0.0001, -0.0001]])\n"
          ],
          "name": "stdout"
        }
      ]
    },
    {
      "metadata": {
        "id": "RxXIWSAYIUpW",
        "colab_type": "code",
        "colab": {}
      },
      "cell_type": "code",
      "source": [
        "from torch import optim"
      ],
      "execution_count": 0,
      "outputs": []
    },
    {
      "metadata": {
        "id": "zc35SM6eIjxj",
        "colab_type": "code",
        "colab": {}
      },
      "cell_type": "code",
      "source": [
        "# Optimizers require the parameters to optimize and a learning rate\n",
        "optimizer = optim.SGD(model.parameters(), lr=0.01)"
      ],
      "execution_count": 0,
      "outputs": []
    }
  ]
}