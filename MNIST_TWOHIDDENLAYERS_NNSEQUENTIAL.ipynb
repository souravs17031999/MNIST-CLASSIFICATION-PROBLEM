{
  "nbformat": 4,
  "nbformat_minor": 0,
  "metadata": {
    "colab": {
      "name": "MNIST_TWOHIDDENLAYERS_2",
      "version": "0.3.2",
      "provenance": []
    },
    "kernelspec": {
      "name": "python3",
      "display_name": "Python 3"
    },
    "accelerator": "GPU"
  },
  "cells": [
    {
      "metadata": {
        "id": "Rxpoah5GxgLT",
        "colab_type": "code",
        "colab": {}
      },
      "cell_type": "code",
      "source": [
        "# http://pytorch.org/\n",
        "from os.path import exists\n",
        "from wheel.pep425tags import get_abbr_impl, get_impl_ver, get_abi_tag\n",
        "platform = '{}{}-{}'.format(get_abbr_impl(), get_impl_ver(), get_abi_tag())\n",
        "cuda_output = !ldconfig -p|grep cudart.so|sed -e 's/.*\\.\\([0-9]*\\)\\.\\([0-9]*\\)$/cu\\1\\2/'\n",
        "accelerator = cuda_output[0] if exists('/dev/nvidia0') else 'cpu'\n",
        "\n",
        "!pip install -q http://download.pytorch.org/whl/{accelerator}/torch-0.4.1-{platform}-linux_x86_64.whl torchvision\n",
        "import torch"
      ],
      "execution_count": 0,
      "outputs": []
    },
    {
      "metadata": {
        "id": "hxJ0mEDbxqPE",
        "colab_type": "code",
        "colab": {}
      },
      "cell_type": "code",
      "source": [
        "# Import necessary packages\n",
        "\n",
        "%matplotlib inline\n",
        "%config InlineBackend.figure_format = 'retina'\n",
        "\n",
        "import numpy as np\n",
        "import torch\n",
        "\n",
        "import helper\n",
        "\n",
        "import matplotlib.pyplot as plt"
      ],
      "execution_count": 0,
      "outputs": []
    },
    {
      "metadata": {
        "id": "NYHU_VtOxty6",
        "colab_type": "code",
        "colab": {}
      },
      "cell_type": "code",
      "source": [
        "### Run this cell\n",
        "\n",
        "from torchvision import datasets, transforms\n",
        "\n",
        "# Define a transform to normalize the data\n",
        "transform = transforms.Compose([transforms.ToTensor(),\n",
        "                              transforms.Normalize((0.5,), (0.5,)),\n",
        "                              ])\n",
        "# Download and load the training data\n",
        "trainset = datasets.MNIST('~/.pytorch/MNIST_data/', download=True, train=True, transform=transform)\n",
        "trainloader = torch.utils.data.DataLoader(trainset, batch_size=64, shuffle=True)"
      ],
      "execution_count": 0,
      "outputs": []
    },
    {
      "metadata": {
        "id": "zf3sLIv7xzi1",
        "colab_type": "code",
        "colab": {
          "base_uri": "https://localhost:8080/",
          "height": 70
        },
        "outputId": "d13037fd-baf3-4e1e-c8a9-f6daf22cb2c6"
      },
      "cell_type": "code",
      "source": [
        "dataiter = iter(trainloader)\n",
        "images, labels = dataiter.next()\n",
        "print(type(images))\n",
        "print(images.shape)\n",
        "print(labels.shape)"
      ],
      "execution_count": 4,
      "outputs": [
        {
          "output_type": "stream",
          "text": [
            "<class 'torch.Tensor'>\n",
            "torch.Size([64, 1, 28, 28])\n",
            "torch.Size([64])\n"
          ],
          "name": "stdout"
        }
      ]
    },
    {
      "metadata": {
        "id": "tF0eDJogx3wI",
        "colab_type": "code",
        "colab": {
          "base_uri": "https://localhost:8080/",
          "height": 265
        },
        "outputId": "a7af4d3d-d42f-41b8-c6bf-d5886dce1817"
      },
      "cell_type": "code",
      "source": [
        "plt.imshow(images[1].numpy().squeeze(), cmap='Greys_r');\n"
      ],
      "execution_count": 5,
      "outputs": [
        {
          "output_type": "display_data",
          "data": {
            "image/png": "[encoded data removed]",
            "text/plain": [
              "<matplotlib.figure.Figure at 0x7fce5a300be0>"
            ]
          },
          "metadata": {
            "tags": [],
            "image/png": {
              "width": 249,
              "height": 248
            }
          }
        }
      ]
    },
    {
      "metadata": {
        "id": "t03W-md0x7uB",
        "colab_type": "code",
        "colab": {}
      },
      "cell_type": "code",
      "source": [
        "from torch import nn"
      ],
      "execution_count": 0,
      "outputs": []
    },
    {
      "metadata": {
        "id": "xdwqt1c4zZsR",
        "colab_type": "code",
        "colab": {
          "base_uri": "https://localhost:8080/",
          "height": 158
        },
        "outputId": "70d1368b-d6f3-4dbe-aea8-a4f65c841818"
      },
      "cell_type": "code",
      "source": [
        "# Hyperparameters for our network\n",
        "input_size = 784\n",
        "hidden_sizes = [128, 64]\n",
        "output_size = 10\n",
        "\n",
        "model = nn.Sequential(nn.Linear(input_size,hidden_sizes[0]),nn.ReLU(),nn.Linear(hidden_sizes[0],hidden_sizes[1]),nn.ReLU(),nn.Linear(hidden_sizes[1],output_size),nn.Softmax(dim=1))\n",
        "print(model)"
      ],
      "execution_count": 17,
      "outputs": [
        {
          "output_type": "stream",
          "text": [
            "Sequential(\n",
            "  (0): Linear(in_features=784, out_features=128, bias=True)\n",
            "  (1): ReLU()\n",
            "  (2): Linear(in_features=128, out_features=64, bias=True)\n",
            "  (3): ReLU()\n",
            "  (4): Linear(in_features=64, out_features=10, bias=True)\n",
            "  (5): Softmax()\n",
            ")\n"
          ],
          "name": "stdout"
        }
      ]
    },
    {
      "metadata": {
        "id": "s5AJp8Xn3sMk",
        "colab_type": "code",
        "colab": {
          "base_uri": "https://localhost:8080/",
          "height": 244
        },
        "outputId": "08b1da7f-a489-4773-ec13-a5816421b1d1"
      },
      "cell_type": "code",
      "source": [
        "# Forward pass through the network and display output\n",
        "images, labels = next(iter(trainloader))\n",
        "images.resize_(images.shape[0], 1, 784)\n",
        "ps = model.forward(images[0,:])\n",
        "helper.view_classify(images[0].view(1, 28, 28), ps)"
      ],
      "execution_count": 18,
      "outputs": [
        {
          "output_type": "display_data",
          "data": {
            "image/png": "[encoded data removed]",
            "text/plain": [
              "<matplotlib.figure.Figure at 0x7fce236ddb70>"
            ]
          },
          "metadata": {
            "tags": [],
            "image/png": {
              "width": 424,
              "height": 227
            }
          }
        }
      ]
    },
    {
      "metadata": {
        "id": "KMkONUhF3w2w",
        "colab_type": "code",
        "colab": {
          "base_uri": "https://localhost:8080/",
          "height": 34
        },
        "outputId": "16ff800e-f89d-4312-f06b-2a642c7a11e6"
      },
      "cell_type": "code",
      "source": [
        "print(model[0])"
      ],
      "execution_count": 19,
      "outputs": [
        {
          "output_type": "stream",
          "text": [
            "Linear(in_features=784, out_features=128, bias=True)\n"
          ],
          "name": "stdout"
        }
      ]
    },
    {
      "metadata": {
        "id": "IsrlcTzs5m6y",
        "colab_type": "code",
        "colab": {
          "base_uri": "https://localhost:8080/",
          "height": 492
        },
        "outputId": "449ceb2f-aa2a-4247-f1cf-c5320e54c092"
      },
      "cell_type": "code",
      "source": [
        "print(model[0].weight)\n",
        "print(model[0].bias)\n"
      ],
      "execution_count": 21,
      "outputs": [
        {
          "output_type": "stream",
          "text": [
            "Parameter containing:\n",
            "tensor([[ 0.0103, -0.0340,  0.0348,  ...,  0.0072,  0.0028,  0.0143],\n",
            "        [-0.0015,  0.0118,  0.0178,  ...,  0.0252,  0.0004,  0.0229],\n",
            "        [-0.0035,  0.0350, -0.0055,  ...,  0.0028,  0.0229, -0.0012],\n",
            "        ...,\n",
            "        [-0.0219, -0.0288, -0.0142,  ..., -0.0099, -0.0248, -0.0116],\n",
            "        [-0.0143,  0.0058,  0.0300,  ...,  0.0001,  0.0275, -0.0072],\n",
            "        [-0.0324, -0.0147, -0.0313,  ...,  0.0163, -0.0334, -0.0320]],\n",
            "       requires_grad=True)\n",
            "Parameter containing:\n",
            "tensor([ 0.0152, -0.0173, -0.0353, -0.0268,  0.0081,  0.0236, -0.0077,  0.0085,\n",
            "        -0.0053, -0.0319, -0.0049, -0.0094,  0.0203, -0.0043, -0.0153, -0.0217,\n",
            "        -0.0241, -0.0040, -0.0297,  0.0186, -0.0169,  0.0329,  0.0174,  0.0349,\n",
            "         0.0067, -0.0301,  0.0357, -0.0345, -0.0046,  0.0287, -0.0038,  0.0001,\n",
            "        -0.0182,  0.0145,  0.0062,  0.0239, -0.0218,  0.0169,  0.0159, -0.0025,\n",
            "         0.0339, -0.0241, -0.0246,  0.0318, -0.0087,  0.0275, -0.0292,  0.0076,\n",
            "         0.0113,  0.0086, -0.0089, -0.0104,  0.0083,  0.0307, -0.0035, -0.0086,\n",
            "        -0.0147,  0.0113, -0.0111,  0.0128, -0.0347,  0.0154, -0.0298,  0.0129,\n",
            "        -0.0189, -0.0231, -0.0157,  0.0008, -0.0070,  0.0123,  0.0046, -0.0089,\n",
            "        -0.0353,  0.0336, -0.0338,  0.0345, -0.0014, -0.0238, -0.0201,  0.0084,\n",
            "         0.0275, -0.0346, -0.0252,  0.0329,  0.0263,  0.0327, -0.0015,  0.0202,\n",
            "         0.0289, -0.0147, -0.0118,  0.0239,  0.0101, -0.0041,  0.0247, -0.0174,\n",
            "         0.0119, -0.0328, -0.0009, -0.0081, -0.0218, -0.0185,  0.0004, -0.0265,\n",
            "        -0.0082, -0.0054, -0.0342,  0.0282, -0.0004,  0.0334, -0.0225, -0.0113,\n",
            "         0.0310, -0.0302, -0.0016, -0.0158, -0.0226, -0.0311,  0.0077, -0.0108,\n",
            "         0.0165,  0.0043,  0.0202,  0.0156, -0.0055,  0.0050,  0.0320, -0.0121],\n",
            "       requires_grad=True)\n"
          ],
          "name": "stdout"
        }
      ]
    },
    {
      "metadata": {
        "id": "TZovl_-D5wvm",
        "colab_type": "code",
        "colab": {}
      },
      "cell_type": "code",
      "source": [
        ""
      ],
      "execution_count": 0,
      "outputs": []
    }
  ]
}